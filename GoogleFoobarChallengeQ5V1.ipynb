{
 "cells": [
  {
   "cell_type": "code",
   "execution_count": 1,
   "id": "288c7800",
   "metadata": {},
   "outputs": [
    {
     "name": "stdout",
     "output_type": "stream",
     "text": [
      "5\n",
      "21\n"
     ]
    }
   ],
   "source": [
    "def solution(w, h, s):\n",
    "    # Initialize a 3D array to store the results\n",
    "    dp = [[[0] * s for _ in range(w)] for _ in range(h)]\n",
    "    \n",
    "    # Initialize the base cases\n",
    "    for i in range(w):\n",
    "        for j in range(h):\n",
    "            dp[j][i][0] = 1  # Only one configuration for all celestial bodies in state 0\n",
    "    \n",
    "    # Fill in the dp array\n",
    "    for k in range(1, s):\n",
    "        for i in range(w):\n",
    "            for j in range(h):\n",
    "                # Calculate the total configurations for the current state k\n",
    "                total = 0\n",
    "                \n",
    "                # Add configurations from the left (without changing column order)\n",
    "                if i > 0:\n",
    "                    total += dp[j][i - 1][k - 1]\n",
    "                \n",
    "                # Add configurations from above (without changing row order)\n",
    "                if j > 0:\n",
    "                    total += dp[j - 1][i][k - 1]\n",
    "                \n",
    "                # Add configurations with a new column (changing column order)\n",
    "                if i > 0:\n",
    "                    total += dp[j][i - 1][k]\n",
    "                \n",
    "                # Add configurations with a new row (changing row order)\n",
    "                if j > 0:\n",
    "                    total += dp[j - 1][i][k]\n",
    "                \n",
    "                dp[j][i][k] = total\n",
    "    \n",
    "    # Sum up the results for different numbers of rows, columns, and states\n",
    "    result = sum(dp[h - 1][w - 1])\n",
    "    \n",
    "    return str(result)\n",
    "\n",
    "# Test cases\n",
    "print(solution(2, 2, 2))  # Output: 7\n",
    "print(solution(2, 3, 4))  # Output: 430\n"
   ]
  },
  {
   "cell_type": "code",
   "execution_count": 2,
   "id": "8d70b828",
   "metadata": {
    "scrolled": true
   },
   "outputs": [
    {
     "name": "stdout",
     "output_type": "stream",
     "text": [
      "329037036777937135335496\n",
      "3733984978938663917354210604517913088335062325886808125243702514678678571991880065766436690078567518184587405929180087277626581650322689041751902840569126603173175514980885875442752723085285443923034613976571719092718999887726458720605122831534089151931821980310032895097334988967596601828758398540674315733535224709382592111636763554094989691650600988644575847772200207602138705743812804013854226886872076199800081103342959864210380779795840708560493075234373146386143410108164194203130966686508956076743582489168546341105072382244429912505287903543055748756132358556657236762659386067673145230656854770011466130147631222877446988548634299899886495119107941095487271882878729208071250882399102971475488638971150760195693692830380624250213546719791049693298824500480249185879232325818147890884062132216841103191475516304400095871154057595755626156077821873037601720728662845495048301277817056107010728257500803061420322038149075105075502656008960655049332757336655846538758857291389217035779570542841134106731260394393123899303617877632686228122285793083713757683657655129318475164993882952910656981968666867821663781158980664009885297491682398609990170568279036427476898330438933241256768972056860464612961358947891863618563014880612247570705308344227126615200044943251878998558414981812136425492335629620849852050677675010328661936453647530388858657919284244569842256963413986292204685465144992867574746692084736339615903063045537853408098152210418938730530885510060615478710379017971331000095652698473117553553452037261295836706461125781161902305064929353566734474287111424099128534350790505412979522228897203670047426097056646952542602637317827521567556660133616951447107916837323469575533049947676382643656197643390036378459437100575275858333644077163583747646828104640152077972612011401233610875526639027729027032367405968878879646256989624600012534707394821277899652853018162913688713520998221614853570364789874729927043674937102335893692906981218816\n"
     ]
    }
   ],
   "source": [
    "def solution(w, h, s):\n",
    "    # Create a 3D DP array to store configurations\n",
    "    dp = [[[0] * (s ** (w + h)) for _ in range(w)] for _ in range(h)]\n",
    "    \n",
    "    # Initialize base cases\n",
    "    for i in range(s ** (w + h)):\n",
    "        dp[0][0][i] = 1\n",
    "    \n",
    "    # Fill the DP array\n",
    "    for row in range(h):\n",
    "        for col in range(w):\n",
    "            for state in range(s ** (w + h)):\n",
    "                for next_state in range(s ** (w + h)):\n",
    "                    dp[row][col][next_state] += dp[row][col][state]\n",
    "                    if col < w - 1:\n",
    "                        dp[row][col + 1][next_state] += dp[row][col][state]\n",
    "                    if row < h - 1:\n",
    "                        dp[row + 1][col][next_state] += dp[row][col][state]\n",
    "    \n",
    "    # Sum up the configurations for the entire grid\n",
    "    total_configs = sum(dp[h - 1][w - 1])\n",
    "    \n",
    "    return str(total_configs)\n",
    "\n",
    "# Test cases\n",
    "print(solution(2, 2, 2))  # Output: \"7\"\n",
    "print(solution(2, 3, 4))  # Output: \"430\"\n"
   ]
  },
  {
   "cell_type": "code",
   "execution_count": 3,
   "id": "03d00f77",
   "metadata": {},
   "outputs": [
    {
     "name": "stdout",
     "output_type": "stream",
     "text": [
      "-7\n",
      "45000\n"
     ]
    }
   ],
   "source": [
    "def gcd(a, b):\n",
    "    while b:\n",
    "        a, b = b, a % b\n",
    "    return a\n",
    "\n",
    "def solution(w, h, s):\n",
    "    def count_configs(n, k):\n",
    "        if n < k:\n",
    "            return 0\n",
    "        result = 1\n",
    "        for i in range(n, n - k, -1):\n",
    "            result *= i\n",
    "        for i in range(2, k + 1):\n",
    "            result //= i\n",
    "        return result\n",
    "\n",
    "    total_configs = 0\n",
    "    for i in range(1, w + 1):\n",
    "        for j in range(1, h + 1):\n",
    "            total_configs += count_configs(w * h, i * j) * (-1) ** ((i + j) % 2)\n",
    "\n",
    "    lcm_wh = (w * h) // gcd(w, h)\n",
    "    for i in range(2, s + 1):\n",
    "        total_configs *= count_configs(lcm_wh, i)\n",
    "\n",
    "    return str(total_configs)\n",
    "\n",
    "# Test cases\n",
    "print(solution(2, 2, 2))  # Output: \"7\"\n",
    "print(solution(2, 3, 4))  # Output: \"430\"\n"
   ]
  },
  {
   "cell_type": "code",
   "execution_count": 5,
   "id": "8bcc4859",
   "metadata": {},
   "outputs": [
    {
     "ename": "IndexError",
     "evalue": "list index out of range",
     "output_type": "error",
     "traceback": [
      "\u001b[1;31m---------------------------------------------------------------------------\u001b[0m",
      "\u001b[1;31mIndexError\u001b[0m                                Traceback (most recent call last)",
      "\u001b[1;32m~\\AppData\\Local\\Temp\\ipykernel_17300\\2909456201.py\u001b[0m in \u001b[0;36m<module>\u001b[1;34m\u001b[0m\n\u001b[0;32m     24\u001b[0m \u001b[1;33m\u001b[0m\u001b[0m\n\u001b[0;32m     25\u001b[0m \u001b[1;31m# Test cases\u001b[0m\u001b[1;33m\u001b[0m\u001b[1;33m\u001b[0m\u001b[0m\n\u001b[1;32m---> 26\u001b[1;33m \u001b[0mprint\u001b[0m\u001b[1;33m(\u001b[0m\u001b[0msolution\u001b[0m\u001b[1;33m(\u001b[0m\u001b[1;36m2\u001b[0m\u001b[1;33m,\u001b[0m \u001b[1;36m2\u001b[0m\u001b[1;33m,\u001b[0m \u001b[1;36m2\u001b[0m\u001b[1;33m)\u001b[0m\u001b[1;33m)\u001b[0m  \u001b[1;31m# Output: \"7\"\u001b[0m\u001b[1;33m\u001b[0m\u001b[1;33m\u001b[0m\u001b[0m\n\u001b[0m\u001b[0;32m     27\u001b[0m \u001b[0mprint\u001b[0m\u001b[1;33m(\u001b[0m\u001b[0msolution\u001b[0m\u001b[1;33m(\u001b[0m\u001b[1;36m2\u001b[0m\u001b[1;33m,\u001b[0m \u001b[1;36m3\u001b[0m\u001b[1;33m,\u001b[0m \u001b[1;36m4\u001b[0m\u001b[1;33m)\u001b[0m\u001b[1;33m)\u001b[0m  \u001b[1;31m# Output: \"45000\"\u001b[0m\u001b[1;33m\u001b[0m\u001b[1;33m\u001b[0m\u001b[0m\n",
      "\u001b[1;32m~\\AppData\\Local\\Temp\\ipykernel_17300\\2909456201.py\u001b[0m in \u001b[0;36msolution\u001b[1;34m(w, h, s)\u001b[0m\n\u001b[0;32m     19\u001b[0m     \u001b[0mtotal_configs\u001b[0m \u001b[1;33m=\u001b[0m \u001b[1;36m0\u001b[0m\u001b[1;33m\u001b[0m\u001b[1;33m\u001b[0m\u001b[0m\n\u001b[0;32m     20\u001b[0m     \u001b[1;32mfor\u001b[0m \u001b[0mk\u001b[0m \u001b[1;32min\u001b[0m \u001b[0mrange\u001b[0m\u001b[1;33m(\u001b[0m\u001b[0mw\u001b[0m \u001b[1;33m*\u001b[0m \u001b[0mh\u001b[0m \u001b[1;33m+\u001b[0m \u001b[1;36m1\u001b[0m\u001b[1;33m)\u001b[0m\u001b[1;33m:\u001b[0m\u001b[1;33m\u001b[0m\u001b[1;33m\u001b[0m\u001b[0m\n\u001b[1;32m---> 21\u001b[1;33m         \u001b[0mtotal_configs\u001b[0m \u001b[1;33m+=\u001b[0m \u001b[0mcount_configs\u001b[0m\u001b[1;33m(\u001b[0m\u001b[0mw\u001b[0m \u001b[1;33m*\u001b[0m \u001b[0mh\u001b[0m\u001b[1;33m,\u001b[0m \u001b[0mk\u001b[0m\u001b[1;33m,\u001b[0m \u001b[0ms\u001b[0m\u001b[1;33m)\u001b[0m\u001b[1;33m\u001b[0m\u001b[1;33m\u001b[0m\u001b[0m\n\u001b[0m\u001b[0;32m     22\u001b[0m \u001b[1;33m\u001b[0m\u001b[0m\n\u001b[0;32m     23\u001b[0m     \u001b[1;32mreturn\u001b[0m \u001b[0mstr\u001b[0m\u001b[1;33m(\u001b[0m\u001b[0mtotal_configs\u001b[0m \u001b[1;33m%\u001b[0m \u001b[0mmod\u001b[0m\u001b[1;33m)\u001b[0m\u001b[1;33m\u001b[0m\u001b[1;33m\u001b[0m\u001b[0m\n",
      "\u001b[1;32m~\\AppData\\Local\\Temp\\ipykernel_17300\\2909456201.py\u001b[0m in \u001b[0;36mcount_configs\u001b[1;34m(n, k, s)\u001b[0m\n\u001b[0;32m      5\u001b[0m         \u001b[1;32mif\u001b[0m \u001b[0mk\u001b[0m \u001b[1;33m<\u001b[0m \u001b[1;36m0\u001b[0m \u001b[1;32mor\u001b[0m \u001b[0mn\u001b[0m \u001b[1;33m<\u001b[0m \u001b[1;36m0\u001b[0m\u001b[1;33m:\u001b[0m\u001b[1;33m\u001b[0m\u001b[1;33m\u001b[0m\u001b[0m\n\u001b[0;32m      6\u001b[0m             \u001b[1;32mreturn\u001b[0m \u001b[1;36m0\u001b[0m\u001b[1;33m\u001b[0m\u001b[1;33m\u001b[0m\u001b[0m\n\u001b[1;32m----> 7\u001b[1;33m         \u001b[1;32mif\u001b[0m \u001b[0mdp\u001b[0m\u001b[1;33m[\u001b[0m\u001b[0mn\u001b[0m\u001b[1;33m]\u001b[0m\u001b[1;33m[\u001b[0m\u001b[0mk\u001b[0m\u001b[1;33m]\u001b[0m\u001b[1;33m[\u001b[0m\u001b[0ms\u001b[0m\u001b[1;33m]\u001b[0m \u001b[1;33m!=\u001b[0m \u001b[1;33m-\u001b[0m\u001b[1;36m1\u001b[0m\u001b[1;33m:\u001b[0m\u001b[1;33m\u001b[0m\u001b[1;33m\u001b[0m\u001b[0m\n\u001b[0m\u001b[0;32m      8\u001b[0m             \u001b[1;32mreturn\u001b[0m \u001b[0mdp\u001b[0m\u001b[1;33m[\u001b[0m\u001b[0mn\u001b[0m\u001b[1;33m]\u001b[0m\u001b[1;33m[\u001b[0m\u001b[0mk\u001b[0m\u001b[1;33m]\u001b[0m\u001b[1;33m[\u001b[0m\u001b[0ms\u001b[0m\u001b[1;33m]\u001b[0m\u001b[1;33m\u001b[0m\u001b[1;33m\u001b[0m\u001b[0m\n\u001b[0;32m      9\u001b[0m \u001b[1;33m\u001b[0m\u001b[0m\n",
      "\u001b[1;31mIndexError\u001b[0m: list index out of range"
     ]
    }
   ],
   "source": [
    "def solution(w, h, s):\n",
    "    def count_configs(n, k, s):\n",
    "        if k == 0:\n",
    "            return 1 if n == 0 else 0\n",
    "        if k < 0 or n < 0:\n",
    "            return 0\n",
    "        if dp[n][k][s] != -1:\n",
    "            return dp[n][k][s]\n",
    "\n",
    "        dp[n][k][s] = (\n",
    "            count_configs(n - s, k - 1, s) +\n",
    "            count_configs(n - s, k, s - 1)\n",
    "        )\n",
    "        return dp[n][k][s]\n",
    "\n",
    "    mod = 10 ** 9 + 7\n",
    "    dp = [[[-1] * (s + 1) for _ in range(w + 1)] for _ in range(h + 1)]\n",
    "\n",
    "    total_configs = 0\n",
    "    for k in range(w * h + 1):\n",
    "        total_configs += count_configs(w * h, k, s)\n",
    "\n",
    "    return str(total_configs % mod)\n",
    "\n",
    "# Test cases\n",
    "print(solution(2, 2, 2))  # Output: \"7\"\n",
    "print(solution(2, 3, 4))  # Output: \"45000\"\n"
   ]
  },
  {
   "cell_type": "code",
   "execution_count": 6,
   "id": "83dc2b1d",
   "metadata": {},
   "outputs": [
    {
     "name": "stdout",
     "output_type": "stream",
     "text": [
      "160\n",
      "2260224\n"
     ]
    }
   ],
   "source": [
    "def gcd(a, b):\n",
    "    while b:\n",
    "        a, b = b, a % b\n",
    "    return a\n",
    "\n",
    "def count_configs(w, h, s, memo):\n",
    "    if w == 0 or h == 0:\n",
    "        return 1\n",
    "    if memo[w][h][s] != -1:\n",
    "        return memo[w][h][s]\n",
    "\n",
    "    total = 0\n",
    "    # Consider placing a celestial body with a state from 1 to s\n",
    "    for i in range(1, s + 1):\n",
    "        total += count_configs(w - 1, h, s, memo) + count_configs(w, h - 1, s, memo)\n",
    "\n",
    "    memo[w][h][s] = total\n",
    "    return total\n",
    "\n",
    "def solution(w, h, s):\n",
    "    mod = 10 ** 9 + 7\n",
    "    lcm_wh = (w * h) // gcd(w, h)\n",
    "    memo = [[[-1] * (s + 1) for _ in range(h + 1)] for _ in range(w + 1)]\n",
    "\n",
    "    total_configs = count_configs(w, h, s, memo) * (lcm_wh ** s)\n",
    "    return str(total_configs % mod)\n",
    "\n",
    "# Test cases\n",
    "print(solution(2, 2, 2))  # Output: \"7\"\n",
    "print(solution(2, 3, 4))  # Output: \"45000\"\n",
    "\n"
   ]
  },
  {
   "cell_type": "code",
   "execution_count": 7,
   "id": "76968364",
   "metadata": {},
   "outputs": [
    {
     "name": "stdout",
     "output_type": "stream",
     "text": [
      "640\n",
      "7143424\n"
     ]
    }
   ],
   "source": [
    "def gcd(a, b):\n",
    "    while b:\n",
    "        a, b = b, a % b\n",
    "    return a\n",
    "\n",
    "def count_configs(w, h, s, memo):\n",
    "    if w == 0 or h == 0:\n",
    "        return 1\n",
    "    if memo[w][h][s] != -1:\n",
    "        return memo[w][h][s]\n",
    "\n",
    "    total = 0\n",
    "    # Consider placing a celestial body with a state from 1 to s\n",
    "    for i in range(1, s + 1):\n",
    "        total += count_configs(w - 1, h, s, memo) + count_configs(w, h - 1, s, memo)\n",
    "\n",
    "    memo[w][h][s] = total\n",
    "    return total\n",
    "\n",
    "def solution(w, h, s):\n",
    "    mod = 10 ** 9 + 7\n",
    "    lcm_wh = (w * h) // gcd(w, h)\n",
    "    memo = [[[-1] * (s + 1) for _ in range(h + 1)] for _ in range(w + 1)]\n",
    "\n",
    "    total_configs = count_configs(w, h, s, memo) * (s ** (w * h))\n",
    "    return str(total_configs)\n",
    "\n",
    "# Test cases\n",
    "print(solution(2, 2, 2))  # Output: \"7\"\n",
    "print(solution(2, 3, 4))  # Output: \"45000\"\n"
   ]
  },
  {
   "cell_type": "code",
   "execution_count": 8,
   "id": "895713a9",
   "metadata": {},
   "outputs": [
    {
     "name": "stdout",
     "output_type": "stream",
     "text": [
      "0\n"
     ]
    },
    {
     "ename": "IndexError",
     "evalue": "list index out of range",
     "output_type": "error",
     "traceback": [
      "\u001b[1;31m---------------------------------------------------------------------------\u001b[0m",
      "\u001b[1;31mIndexError\u001b[0m                                Traceback (most recent call last)",
      "\u001b[1;32m~\\AppData\\Local\\Temp\\ipykernel_17300\\2517386543.py\u001b[0m in \u001b[0;36m<module>\u001b[1;34m\u001b[0m\n\u001b[0;32m     30\u001b[0m \u001b[1;31m# Test cases\u001b[0m\u001b[1;33m\u001b[0m\u001b[1;33m\u001b[0m\u001b[0m\n\u001b[0;32m     31\u001b[0m \u001b[0mprint\u001b[0m\u001b[1;33m(\u001b[0m\u001b[0msolution\u001b[0m\u001b[1;33m(\u001b[0m\u001b[1;36m2\u001b[0m\u001b[1;33m,\u001b[0m \u001b[1;36m2\u001b[0m\u001b[1;33m,\u001b[0m \u001b[1;36m2\u001b[0m\u001b[1;33m)\u001b[0m\u001b[1;33m)\u001b[0m  \u001b[1;31m# Output: \"7\"\u001b[0m\u001b[1;33m\u001b[0m\u001b[1;33m\u001b[0m\u001b[0m\n\u001b[1;32m---> 32\u001b[1;33m \u001b[0mprint\u001b[0m\u001b[1;33m(\u001b[0m\u001b[0msolution\u001b[0m\u001b[1;33m(\u001b[0m\u001b[1;36m2\u001b[0m\u001b[1;33m,\u001b[0m \u001b[1;36m3\u001b[0m\u001b[1;33m,\u001b[0m \u001b[1;36m4\u001b[0m\u001b[1;33m)\u001b[0m\u001b[1;33m)\u001b[0m  \u001b[1;31m# Output: \"45000\"\u001b[0m\u001b[1;33m\u001b[0m\u001b[1;33m\u001b[0m\u001b[0m\n\u001b[0m",
      "\u001b[1;32m~\\AppData\\Local\\Temp\\ipykernel_17300\\2517386543.py\u001b[0m in \u001b[0;36msolution\u001b[1;34m(w, h, s)\u001b[0m\n\u001b[0;32m     18\u001b[0m                         \u001b[1;32mfor\u001b[0m \u001b[0my\u001b[0m \u001b[1;32min\u001b[0m \u001b[0mrange\u001b[0m\u001b[1;33m(\u001b[0m\u001b[1;36m1\u001b[0m\u001b[1;33m,\u001b[0m \u001b[0mj\u001b[0m \u001b[1;33m+\u001b[0m \u001b[1;36m1\u001b[0m\u001b[1;33m)\u001b[0m\u001b[1;33m:\u001b[0m\u001b[1;33m\u001b[0m\u001b[1;33m\u001b[0m\u001b[0m\n\u001b[0;32m     19\u001b[0m                             \u001b[1;32mfor\u001b[0m \u001b[0mz\u001b[0m \u001b[1;32min\u001b[0m \u001b[0mrange\u001b[0m\u001b[1;33m(\u001b[0m\u001b[1;36m1\u001b[0m\u001b[1;33m,\u001b[0m \u001b[0mk\u001b[0m \u001b[1;33m+\u001b[0m \u001b[1;36m1\u001b[0m\u001b[1;33m)\u001b[0m\u001b[1;33m:\u001b[0m\u001b[1;33m\u001b[0m\u001b[1;33m\u001b[0m\u001b[0m\n\u001b[1;32m---> 20\u001b[1;33m                                 dp[i][j][k] += (\n\u001b[0m\u001b[0;32m     21\u001b[0m                                     \u001b[0mdp\u001b[0m\u001b[1;33m[\u001b[0m\u001b[0mx\u001b[0m\u001b[1;33m]\u001b[0m\u001b[1;33m[\u001b[0m\u001b[0my\u001b[0m\u001b[1;33m]\u001b[0m\u001b[1;33m[\u001b[0m\u001b[0mz\u001b[0m\u001b[1;33m]\u001b[0m \u001b[1;33m*\u001b[0m\u001b[1;33m\u001b[0m\u001b[1;33m\u001b[0m\u001b[0m\n\u001b[0;32m     22\u001b[0m                                     \u001b[0mdp\u001b[0m\u001b[1;33m[\u001b[0m\u001b[0mi\u001b[0m \u001b[1;33m-\u001b[0m \u001b[0mx\u001b[0m\u001b[1;33m]\u001b[0m\u001b[1;33m[\u001b[0m\u001b[0mj\u001b[0m\u001b[1;33m]\u001b[0m\u001b[1;33m[\u001b[0m\u001b[0mk\u001b[0m\u001b[1;33m]\u001b[0m \u001b[1;33m*\u001b[0m\u001b[1;33m\u001b[0m\u001b[1;33m\u001b[0m\u001b[0m\n",
      "\u001b[1;31mIndexError\u001b[0m: list index out of range"
     ]
    }
   ],
   "source": [
    "def gcd(a, b):\n",
    "    while b:\n",
    "        a, b = b, a % b\n",
    "    return a\n",
    "\n",
    "def solution(w, h, s):\n",
    "    mod = 10 ** 9 + 7\n",
    "    lcm_wh = (w * h) // gcd(w, h)\n",
    "    dp = [[[0] * (s + 1) for _ in range(w + 1)] for _ in range(h + 1)]\n",
    "\n",
    "    for i in range(1, w + 1):\n",
    "        for j in range(1, h + 1):\n",
    "            for k in range(1, s + 1):\n",
    "                if i == 1 and j == 1:\n",
    "                    dp[i][j][k] = k ** (w * h)\n",
    "                else:\n",
    "                    for x in range(1, i + 1):\n",
    "                        for y in range(1, j + 1):\n",
    "                            for z in range(1, k + 1):\n",
    "                                dp[i][j][k] += (\n",
    "                                    dp[x][y][z] *\n",
    "                                    dp[i - x][j][k] *\n",
    "                                    dp[x][j - y][k] *\n",
    "                                    dp[i - x][j - y][k - z]\n",
    "                                )\n",
    "    \n",
    "    total_configs = dp[w][h][s] * (lcm_wh ** s)\n",
    "    return str(total_configs % mod)\n",
    "\n",
    "# Test cases\n",
    "print(solution(2, 2, 2))  # Output: \"7\"\n",
    "print(solution(2, 3, 4))  # Output: \"45000\"\n"
   ]
  },
  {
   "cell_type": "code",
   "execution_count": 9,
   "id": "1633a192",
   "metadata": {},
   "outputs": [
    {
     "name": "stdout",
     "output_type": "stream",
     "text": [
      "192\n",
      "4315680\n"
     ]
    }
   ],
   "source": [
    "def gcd(a, b):\n",
    "    while b:\n",
    "        a, b = b, a % b\n",
    "    return a\n",
    "\n",
    "def solution(w, h, s):\n",
    "    mod = 10 ** 9 + 7\n",
    "    lcm_wh = (w * h) // gcd(w, h)\n",
    "    \n",
    "    def binomial(n, k):\n",
    "        result = 1\n",
    "        for i in range(k):\n",
    "            result *= (n - i)\n",
    "            result //= (i + 1)\n",
    "        return result\n",
    "    \n",
    "    total_configs = 0\n",
    "    \n",
    "    for k in range(1, s + 1):\n",
    "        coeff = binomial(w * h, k)\n",
    "        ways = 1\n",
    "        for i in range(1, k + 1):\n",
    "            ways *= binomial(w * h - i, 1)\n",
    "        total_configs += coeff * ways\n",
    "    \n",
    "    total_configs *= (lcm_wh ** s)\n",
    "    \n",
    "    return str(total_configs % mod)\n",
    "\n",
    "# Test cases\n",
    "print(solution(2, 2, 2))  # Output: \"7\"\n",
    "print(solution(2, 3, 4))  # Output: \"45000\"\n"
   ]
  },
  {
   "cell_type": "code",
   "execution_count": 10,
   "id": "0b45df12",
   "metadata": {},
   "outputs": [
    {
     "name": "stdout",
     "output_type": "stream",
     "text": [
      "1536\n",
      "0\n"
     ]
    }
   ],
   "source": [
    "import sympy\n",
    "\n",
    "def solution(w, h, s):\n",
    "    mod = 10 ** 9 + 7\n",
    "    x = sympy.symbols('x')\n",
    "    generating_function = (1 - x ** s) ** (w * h)\n",
    "    \n",
    "    total_configs = sympy.expand(generating_function).coeff(x, w * h)\n",
    "    total_configs *= (w * h) ** (w * h)\n",
    "    \n",
    "    return str(total_configs % mod)\n",
    "\n",
    "# Test cases\n",
    "print(solution(2, 2, 2))  # Output: \"7\"\n",
    "print(solution(2, 3, 4))  # Output: \"45000\"\n"
   ]
  },
  {
   "cell_type": "code",
   "execution_count": 11,
   "id": "be6f3334",
   "metadata": {},
   "outputs": [
    {
     "name": "stdout",
     "output_type": "stream",
     "text": [
      "0\n",
      "0\n"
     ]
    }
   ],
   "source": [
    "from sympy import symbols, simplify\n",
    "\n",
    "def solution(w, h, s):\n",
    "    x = symbols('x')\n",
    "    polynomial = ((x ** s - x) ** w) ** h\n",
    "    expanded_polynomial = simplify(polynomial)\n",
    "    coefficient = expanded_polynomial.coeff(x, s)\n",
    "    \n",
    "    mod = 10 ** 9 + 7\n",
    "    lcm_wh = (w * h) // gcd(w, h)\n",
    "    total_configs = coefficient * (lcm_wh ** s)\n",
    "    \n",
    "    return str(total_configs % mod)\n",
    "\n",
    "# Test cases\n",
    "print(solution(2, 2, 2))  # Output: \"7\"\n",
    "print(solution(2, 3, 4))  # Output: \"45000\"\n"
   ]
  },
  {
   "cell_type": "code",
   "execution_count": 12,
   "id": "7949c246",
   "metadata": {},
   "outputs": [
    {
     "name": "stdout",
     "output_type": "stream",
     "text": [
      "64\n",
      "26873856\n"
     ]
    }
   ],
   "source": [
    "def gcd(a, b):\n",
    "    while b:\n",
    "        a, b = b, a % b\n",
    "    return a\n",
    "\n",
    "def solution(w, h, s):\n",
    "    mod = 10 ** 9 + 7\n",
    "    lcm_wh = (w * h) // gcd(w, h)\n",
    "    \n",
    "    def count_states(rows, cols, states):\n",
    "        if rows <= 0 or cols <= 0:\n",
    "            return 0\n",
    "        memo = {}\n",
    "        \n",
    "        def helper(rows, cols, states):\n",
    "            if rows == 1 and cols == 1:\n",
    "                return states\n",
    "            if (rows, cols, states) in memo:\n",
    "                return memo[(rows, cols, states)]\n",
    "            \n",
    "            total = 0\n",
    "            # Iterate through possible configurations\n",
    "            for i in range(states):\n",
    "                if rows > 1:\n",
    "                    total += helper(rows - 1, cols, states) * (states - 1)\n",
    "                if cols > 1:\n",
    "                    total += helper(rows, cols - 1, states) * (states - 1)\n",
    "            \n",
    "            memo[(rows, cols, states)] = total\n",
    "            return total\n",
    "        \n",
    "        total_configs = helper(w, h, s)\n",
    "        return total_configs\n",
    "    \n",
    "    total_configs = count_states(w, h, s) * (lcm_wh ** s)\n",
    "    \n",
    "    return str(total_configs % mod)\n",
    "\n",
    "# Test cases\n",
    "print(solution(2, 2, 2))  # Output: \"7\"\n",
    "print(solution(2, 3, 4))  # Output: \"45000\"\n"
   ]
  },
  {
   "cell_type": "code",
   "execution_count": 13,
   "id": "594b7b8d",
   "metadata": {},
   "outputs": [
    {
     "name": "stdout",
     "output_type": "stream",
     "text": [
      "1024\n"
     ]
    },
    {
     "ename": "IndexError",
     "evalue": "list index out of range",
     "output_type": "error",
     "traceback": [
      "\u001b[1;31m---------------------------------------------------------------------------\u001b[0m",
      "\u001b[1;31mIndexError\u001b[0m                                Traceback (most recent call last)",
      "\u001b[1;32m~\\AppData\\Local\\Temp\\ipykernel_17300\\4098191953.py\u001b[0m in \u001b[0;36m<module>\u001b[1;34m\u001b[0m\n\u001b[0;32m     32\u001b[0m \u001b[1;31m# Test cases\u001b[0m\u001b[1;33m\u001b[0m\u001b[1;33m\u001b[0m\u001b[0m\n\u001b[0;32m     33\u001b[0m \u001b[0mprint\u001b[0m\u001b[1;33m(\u001b[0m\u001b[0msolution\u001b[0m\u001b[1;33m(\u001b[0m\u001b[1;36m2\u001b[0m\u001b[1;33m,\u001b[0m \u001b[1;36m2\u001b[0m\u001b[1;33m,\u001b[0m \u001b[1;36m2\u001b[0m\u001b[1;33m)\u001b[0m\u001b[1;33m)\u001b[0m  \u001b[1;31m# Output: \"7\"\u001b[0m\u001b[1;33m\u001b[0m\u001b[1;33m\u001b[0m\u001b[0m\n\u001b[1;32m---> 34\u001b[1;33m \u001b[0mprint\u001b[0m\u001b[1;33m(\u001b[0m\u001b[0msolution\u001b[0m\u001b[1;33m(\u001b[0m\u001b[1;36m2\u001b[0m\u001b[1;33m,\u001b[0m \u001b[1;36m3\u001b[0m\u001b[1;33m,\u001b[0m \u001b[1;36m4\u001b[0m\u001b[1;33m)\u001b[0m\u001b[1;33m)\u001b[0m  \u001b[1;31m# Output: \"45000\"\u001b[0m\u001b[1;33m\u001b[0m\u001b[1;33m\u001b[0m\u001b[0m\n\u001b[0m",
      "\u001b[1;32m~\\AppData\\Local\\Temp\\ipykernel_17300\\4098191953.py\u001b[0m in \u001b[0;36msolution\u001b[1;34m(w, h, s)\u001b[0m\n\u001b[0;32m     19\u001b[0m                         \u001b[1;32mfor\u001b[0m \u001b[0my\u001b[0m \u001b[1;32min\u001b[0m \u001b[0mrange\u001b[0m\u001b[1;33m(\u001b[0m\u001b[1;36m1\u001b[0m\u001b[1;33m,\u001b[0m \u001b[0mj\u001b[0m \u001b[1;33m+\u001b[0m \u001b[1;36m1\u001b[0m\u001b[1;33m)\u001b[0m\u001b[1;33m:\u001b[0m\u001b[1;33m\u001b[0m\u001b[1;33m\u001b[0m\u001b[0m\n\u001b[0;32m     20\u001b[0m                             \u001b[1;32mfor\u001b[0m \u001b[0mz\u001b[0m \u001b[1;32min\u001b[0m \u001b[0mrange\u001b[0m\u001b[1;33m(\u001b[0m\u001b[1;36m1\u001b[0m\u001b[1;33m,\u001b[0m \u001b[0mk\u001b[0m \u001b[1;33m+\u001b[0m \u001b[1;36m1\u001b[0m\u001b[1;33m)\u001b[0m\u001b[1;33m:\u001b[0m\u001b[1;33m\u001b[0m\u001b[1;33m\u001b[0m\u001b[0m\n\u001b[1;32m---> 21\u001b[1;33m                                 dp[i][j][k] += (\n\u001b[0m\u001b[0;32m     22\u001b[0m                                     \u001b[0mdp\u001b[0m\u001b[1;33m[\u001b[0m\u001b[0mx\u001b[0m\u001b[1;33m]\u001b[0m\u001b[1;33m[\u001b[0m\u001b[0my\u001b[0m\u001b[1;33m]\u001b[0m\u001b[1;33m[\u001b[0m\u001b[0mz\u001b[0m\u001b[1;33m]\u001b[0m \u001b[1;33m*\u001b[0m\u001b[1;33m\u001b[0m\u001b[1;33m\u001b[0m\u001b[0m\n\u001b[0;32m     23\u001b[0m                                     \u001b[0mdp\u001b[0m\u001b[1;33m[\u001b[0m\u001b[0mi\u001b[0m \u001b[1;33m-\u001b[0m \u001b[0mx\u001b[0m\u001b[1;33m]\u001b[0m\u001b[1;33m[\u001b[0m\u001b[0my\u001b[0m\u001b[1;33m]\u001b[0m\u001b[1;33m[\u001b[0m\u001b[0mk\u001b[0m\u001b[1;33m]\u001b[0m \u001b[1;33m*\u001b[0m\u001b[1;33m\u001b[0m\u001b[1;33m\u001b[0m\u001b[0m\n",
      "\u001b[1;31mIndexError\u001b[0m: list index out of range"
     ]
    }
   ],
   "source": [
    "def gcd(a, b):\n",
    "    while b:\n",
    "        a, b = b, a % b\n",
    "    return a\n",
    "\n",
    "def solution(w, h, s):\n",
    "    mod = 10 ** 9 + 7\n",
    "    lcm_wh = (w * h) // gcd(w, h)\n",
    "    \n",
    "    dp = [[[0] * (s + 1) for _ in range(w + 1)] for _ in range(h + 1)]\n",
    "\n",
    "    for i in range(1, w + 1):\n",
    "        for j in range(1, h + 1):\n",
    "            for k in range(1, s + 1):\n",
    "                if i == 1 and j == 1:\n",
    "                    dp[i][j][k] = k ** (w * h)\n",
    "                else:\n",
    "                    for x in range(1, i + 1):\n",
    "                        for y in range(1, j + 1):\n",
    "                            for z in range(1, k + 1):\n",
    "                                dp[i][j][k] += (\n",
    "                                    dp[x][y][z] *\n",
    "                                    dp[i - x][y][k] *\n",
    "                                    dp[x][j - y][k] *\n",
    "                                    dp[i - x][j - y][k - z]\n",
    "                                )\n",
    "    \n",
    "    total_configs = dp[w][h][s] * (lcm_wh ** s)\n",
    "    \n",
    "    return str(total_configs % mod)\n",
    "\n",
    "# Test cases\n",
    "print(solution(2, 2, 2))  # Output: \"7\"\n",
    "print(solution(2, 3, 4))  # Output: \"45000\"\n"
   ]
  },
  {
   "cell_type": "code",
   "execution_count": 14,
   "id": "c59b5165",
   "metadata": {},
   "outputs": [
    {
     "name": "stdout",
     "output_type": "stream",
     "text": [
      "96\n",
      "1702944\n"
     ]
    }
   ],
   "source": [
    "from math import comb\n",
    "\n",
    "def gcd(a, b):\n",
    "    while b:\n",
    "        a, b = b, a % b\n",
    "    return a\n",
    "\n",
    "def solution(w, h, s):\n",
    "    mod = 10 ** 9 + 7\n",
    "    lcm_wh = (w * h) // gcd(w, h)\n",
    "\n",
    "    def calculate_coefficient(n, k):\n",
    "        result = 1\n",
    "        for i in range(1, k + 1):\n",
    "            result *= (n - i + 1) // i\n",
    "        return result\n",
    "\n",
    "    total_configs = 0\n",
    "\n",
    "    for k in range(1, s + 1):\n",
    "        coefficient = calculate_coefficient(w * h, k)\n",
    "        ways = 0\n",
    "        for i in range(1, k + 1):\n",
    "            ways += calculate_coefficient(w * h - i, i) * ((s - 1) ** i)\n",
    "        total_configs += coefficient * ways\n",
    "\n",
    "    total_configs *= (lcm_wh ** s)\n",
    "    \n",
    "    return str(total_configs % mod)\n",
    "\n",
    "# Test cases\n",
    "print(solution(2, 2, 2))  # Output: \"7\"\n",
    "print(solution(2, 3, 4))  # Output: \"45000\"\n"
   ]
  },
  {
   "cell_type": "code",
   "execution_count": 18,
   "id": "f1eb70fb",
   "metadata": {},
   "outputs": [
    {
     "ename": "ImportError",
     "evalue": "cannot import name 'gcd' from 'fractions' (C:\\Users\\rafae\\anaconda3\\lib\\fractions.py)",
     "output_type": "error",
     "traceback": [
      "\u001b[1;31m---------------------------------------------------------------------------\u001b[0m",
      "\u001b[1;31mImportError\u001b[0m                               Traceback (most recent call last)",
      "\u001b[1;32m~\\AppData\\Local\\Temp\\ipykernel_17300\\3740123579.py\u001b[0m in \u001b[0;36m<module>\u001b[1;34m\u001b[0m\n\u001b[0;32m     78\u001b[0m \u001b[1;32mfrom\u001b[0m \u001b[0mmath\u001b[0m \u001b[1;32mimport\u001b[0m \u001b[0mfactorial\u001b[0m\u001b[1;33m\u001b[0m\u001b[1;33m\u001b[0m\u001b[0m\n\u001b[0;32m     79\u001b[0m \u001b[1;32mfrom\u001b[0m \u001b[0mcollections\u001b[0m \u001b[1;32mimport\u001b[0m \u001b[0mCounter\u001b[0m\u001b[1;33m\u001b[0m\u001b[1;33m\u001b[0m\u001b[0m\n\u001b[1;32m---> 80\u001b[1;33m \u001b[1;32mfrom\u001b[0m \u001b[0mfractions\u001b[0m \u001b[1;32mimport\u001b[0m \u001b[0mgcd\u001b[0m\u001b[1;33m\u001b[0m\u001b[1;33m\u001b[0m\u001b[0m\n\u001b[0m\u001b[0;32m     81\u001b[0m \u001b[1;33m\u001b[0m\u001b[0m\n\u001b[0;32m     82\u001b[0m \u001b[1;32mdef\u001b[0m \u001b[0mcycle_count\u001b[0m\u001b[1;33m(\u001b[0m\u001b[0mc\u001b[0m\u001b[1;33m,\u001b[0m \u001b[0mn\u001b[0m\u001b[1;33m)\u001b[0m\u001b[1;33m:\u001b[0m\u001b[1;33m\u001b[0m\u001b[1;33m\u001b[0m\u001b[0m\n",
      "\u001b[1;31mImportError\u001b[0m: cannot import name 'gcd' from 'fractions' (C:\\Users\\rafae\\anaconda3\\lib\\fractions.py)"
     ]
    }
   ],
   "source": [
    "'''\n",
    "Challenge 5.1\n",
    "Disorderly Escape\n",
    "=================\n",
    "\n",
    "Oh no! You've managed to free the bunny prisoners and escape Commander Lambdas exploding space station, but her team of elite starfighters has flanked your ship. If you dont jump to hyperspace, and fast, youll be shot out of the sky!\n",
    "\n",
    "Problem is, to avoid detection by galactic law enforcement, Commander Lambda planted her space station in the middle of a quasar quantum flux field. In order to make the jump to hyperspace, you need to know the configuration of celestial bodies in the quadrant you plan to jump through. In order to do *that*, you need to figure out how many configurations each quadrant could possibly have, so that you can pick the optimal quadrant through which youll make your jump. \n",
    "\n",
    "There's something important to note about quasar quantum flux fields' configurations: when drawn on a star grid, configurations are considered equivalent by grouping rather than by order. That is, for a given set of configurations, if you exchange the position of any two columns or any two rows some number of times, youll find that all of those configurations are equivalent in that way - in grouping, rather than order.\n",
    "\n",
    "Write a function answer(w, h, s) that takes 3 integers and returns the number of unique, non-equivalent configurations that can be found on a star grid w blocks wide and h blocks tall where each celestial body has s possible states. Equivalency is defined as above: any two star grids with each celestial body in the same state where the actual order of the rows and columns do not matter (and can thus be freely swapped around). Star grid standardization means that the width and height of the grid will always be between 1 and 12, inclusive. And while there are a variety of celestial bodies in each grid, the number of states of those bodies is between 2 and 20, inclusive. The answer can be over 20 digits long, so return it as a decimal string.  The intermediate values can also be large, so you will likely need to use at least 64-bit integers.\n",
    "\n",
    "For example, consider w=2, h=2, s=2. We have a 2x2 grid where each celestial body is either in state 0 (for instance, silent) or state 1 (for instance, noisy).  We can examine which grids are equivalent by swapping rows and columns.\n",
    "\n",
    "00\n",
    "00\n",
    "\n",
    "In the above configuration, all celestial bodies are \"silent\" - that is, they have a state of 0 - so any swap of row or column would keep it in the same state.\n",
    "\n",
    "00 00 01 10\n",
    "01 10 00 00\n",
    "\n",
    "1 celestial body is emitting noise - that is, has a state of 1 - so swapping rows and columns can put it in any of the 4 positions.  All four of the above configurations are equivalent.\n",
    "\n",
    "00 11\n",
    "11 00\n",
    "\n",
    "2 celestial bodies are emitting noise side-by-side.  Swapping columns leaves them unchanged, and swapping rows simply moves them between the top and bottom.  In both, the *groupings* are the same: one row with two bodies in state 0, one row with two bodies in state 1, and two columns with one of each state.\n",
    "\n",
    "01 10\n",
    "01 10\n",
    "\n",
    "2 noisy celestial bodies adjacent vertically. This is symmetric to the side-by-side case, but it is different because there's no way to transpose the grid.\n",
    "\n",
    "01 10\n",
    "10 01\n",
    "\n",
    "2 noisy celestial bodies diagonally.  Both have 2 rows and 2 columns that have one of each state, so they are equivalent to each other.\n",
    "\n",
    "01 10 11 11\n",
    "11 11 01 10\n",
    "\n",
    "3 noisy celestial bodies, similar to the case where only one of four is noisy.\n",
    "\n",
    "11\n",
    "11\n",
    "\n",
    "4 noisy celestial bodies.\n",
    "\n",
    "There are 7 distinct, non-equivalent grids in total, so answer(2, 2, 2) would return 7.\n",
    "\n",
    "Languages\n",
    "=========\n",
    "\n",
    "To provide a Python solution, edit solution.py\n",
    "To provide a Java solution, edit solution.java\n",
    "\n",
    "Test cases\n",
    "==========\n",
    "\n",
    "Inputs:\n",
    "    (int) w = 2\n",
    "    (int) h = 2\n",
    "    (int) s = 2\n",
    "Output:\n",
    "    (string) \"7\"\n",
    "\n",
    "Inputs:\n",
    "    (int) w = 2\n",
    "    (int) h = 3\n",
    "    (int) s = 4\n",
    "Output:\n",
    "    (string) \"430\"\n",
    "'''\n",
    "\n",
    "from math import factorial\n",
    "from collections import Counter\n",
    "from fractions import gcd\n",
    "\n",
    "def cycle_count(c, n):\n",
    "    cc=factorial(n)\n",
    "    for a, b in Counter(c).items():\n",
    "        cc//=(a**b)*factorial(b)\n",
    "    return cc        \n",
    "\n",
    "def cycle_partitions(n, i=1):\n",
    "    yield [n]\n",
    "    for i in range(i, n//2 + 1):\n",
    "        for p in cycle_partitions(n-i, i):\n",
    "            yield [i] + p\n",
    "\n",
    "def answer(w, h, s):    \n",
    "    grid=0\n",
    "    for cpw in cycle_partitions(w):\n",
    "        for cph in cycle_partitions(h):            \n",
    "            m=cycle_count(cpw, w)*cycle_count(cph, h)\n",
    "            grid+=m*(s**sum([sum([gcd(i, j) for i in cpw]) for j in cph]))\n",
    "              \n",
    "    return grid//(factorial(w)*factorial(h))\n",
    "\n",
    "print (answer(3, 3, 3))"
   ]
  }
 ],
 "metadata": {
  "kernelspec": {
   "display_name": "Python 3 (ipykernel)",
   "language": "python",
   "name": "python3"
  },
  "language_info": {
   "codemirror_mode": {
    "name": "ipython",
    "version": 3
   },
   "file_extension": ".py",
   "mimetype": "text/x-python",
   "name": "python",
   "nbconvert_exporter": "python",
   "pygments_lexer": "ipython3",
   "version": "3.9.13"
  }
 },
 "nbformat": 4,
 "nbformat_minor": 5
}
